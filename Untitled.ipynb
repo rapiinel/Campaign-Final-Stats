{
 "cells": [
  {
   "cell_type": "code",
   "execution_count": 1,
   "metadata": {},
   "outputs": [],
   "source": [
    "import pandas as pd\n",
    "import glob\n",
    "import numpy as np"
   ]
  },
  {
   "cell_type": "code",
   "execution_count": 2,
   "metadata": {},
   "outputs": [],
   "source": [
    "df_list = []\n",
    "open_list = []\n",
    "bounces_list = []\n",
    "unsub_list = []\n",
    "spam_list = []\n",
    "\n",
    "dict_df = {'Opens':open_list,\n",
    "          'Bounces':bounces_list,\n",
    "          'Unsubs':unsub_list,\n",
    "          'Spam':spam_list\n",
    "          }\n",
    "\n",
    "sheet_names = ['Opens', 'Bounces', 'Unsubs', 'Spam']"
   ]
  },
  {
   "cell_type": "code",
   "execution_count": 3,
   "metadata": {},
   "outputs": [],
   "source": [
    "# get data file names\n",
    "path =r'C:\\Users\\Raffie\\Documents\\Python Scripts\\Campaign Final Stats\\raw'\n",
    "file_names = glob.glob(path + \"/*.xlsx\")\n",
    "\n",
    "for sheet_name in sheet_names:\n",
    "    \n",
    "    for file_name in file_names:\n",
    "        df = pd.read_excel(file_name, sheet_name = sheet_name)\n",
    "        df['sheet_name'] = sheet_name\n",
    "        df['file_name'] = file_name\n",
    "        df_list.append(df)\n",
    "        dict_df[sheet_name].append(df)"
   ]
  },
  {
   "cell_type": "code",
   "execution_count": 4,
   "metadata": {},
   "outputs": [],
   "source": [
    "open_df = pd.concat(open_list, ignore_index = True, sort =True)\n",
    "bounces_df = pd.concat(bounces_list, ignore_index = True, sort =True)\n",
    "unsub_df = pd.concat(unsub_list, ignore_index = True, sort =True)\n",
    "spam_df = pd.concat(spam_list, ignore_index = True, sort =True)"
   ]
  },
  {
   "cell_type": "code",
   "execution_count": 5,
   "metadata": {},
   "outputs": [],
   "source": [
    "open_df['Final_date'] = np.where(np.isnat(open_df.iloc[:,2]), open_df.iloc[:,3], open_df.iloc[:,2])"
   ]
  },
  {
   "cell_type": "code",
   "execution_count": 6,
   "metadata": {},
   "outputs": [
    {
     "data": {
      "text/html": [
       "<div>\n",
       "<style scoped>\n",
       "    .dataframe tbody tr th:only-of-type {\n",
       "        vertical-align: middle;\n",
       "    }\n",
       "\n",
       "    .dataframe tbody tr th {\n",
       "        vertical-align: top;\n",
       "    }\n",
       "\n",
       "    .dataframe thead th {\n",
       "        text-align: right;\n",
       "    }\n",
       "</style>\n",
       "<table border=\"1\" class=\"dataframe\">\n",
       "  <thead>\n",
       "    <tr style=\"text-align: right;\">\n",
       "      <th></th>\n",
       "      <th>Company</th>\n",
       "      <th>Database Name</th>\n",
       "      <th>Date Opened</th>\n",
       "      <th>Date Opened</th>\n",
       "      <th>Email Address</th>\n",
       "      <th>First-Name</th>\n",
       "      <th>Last-Name</th>\n",
       "      <th>Opened Email As</th>\n",
       "      <th>file_name</th>\n",
       "      <th>sheet_name</th>\n",
       "      <th>Final_date</th>\n",
       "    </tr>\n",
       "  </thead>\n",
       "  <tbody>\n",
       "    <tr>\n",
       "      <td>0</td>\n",
       "      <td>NaN</td>\n",
       "      <td>All Contacts</td>\n",
       "      <td>NaT</td>\n",
       "      <td>2020-04-05</td>\n",
       "      <td>debeauclair77@hotmail.com</td>\n",
       "      <td>Danny</td>\n",
       "      <td>Beauclair</td>\n",
       "      <td>HTML Email</td>\n",
       "      <td>C:\\Users\\Raffie\\Documents\\Python Scripts\\Campa...</td>\n",
       "      <td>Opens</td>\n",
       "      <td>2020-04-05</td>\n",
       "    </tr>\n",
       "    <tr>\n",
       "      <td>1</td>\n",
       "      <td>NaN</td>\n",
       "      <td>All Contacts</td>\n",
       "      <td>NaT</td>\n",
       "      <td>2020-04-03</td>\n",
       "      <td>christopherturnerlaw@gmail.com</td>\n",
       "      <td>Christopher</td>\n",
       "      <td>Turner</td>\n",
       "      <td>HTML Email</td>\n",
       "      <td>C:\\Users\\Raffie\\Documents\\Python Scripts\\Campa...</td>\n",
       "      <td>Opens</td>\n",
       "      <td>2020-04-03</td>\n",
       "    </tr>\n",
       "    <tr>\n",
       "      <td>2</td>\n",
       "      <td>NaN</td>\n",
       "      <td>All Contacts</td>\n",
       "      <td>NaT</td>\n",
       "      <td>2020-04-03</td>\n",
       "      <td>jprovo@phpattorneys.com</td>\n",
       "      <td>Jakob</td>\n",
       "      <td>Provo</td>\n",
       "      <td>HTML Email</td>\n",
       "      <td>C:\\Users\\Raffie\\Documents\\Python Scripts\\Campa...</td>\n",
       "      <td>Opens</td>\n",
       "      <td>2020-04-03</td>\n",
       "    </tr>\n",
       "    <tr>\n",
       "      <td>3</td>\n",
       "      <td>NaN</td>\n",
       "      <td>All Contacts</td>\n",
       "      <td>NaT</td>\n",
       "      <td>2020-04-03</td>\n",
       "      <td>csexton@sb-kc.com</td>\n",
       "      <td>Curry</td>\n",
       "      <td>Sexton</td>\n",
       "      <td>HTML Email</td>\n",
       "      <td>C:\\Users\\Raffie\\Documents\\Python Scripts\\Campa...</td>\n",
       "      <td>Opens</td>\n",
       "      <td>2020-04-03</td>\n",
       "    </tr>\n",
       "    <tr>\n",
       "      <td>4</td>\n",
       "      <td>NaN</td>\n",
       "      <td>All Contacts</td>\n",
       "      <td>NaT</td>\n",
       "      <td>2020-04-03</td>\n",
       "      <td>gmastone@aol.com</td>\n",
       "      <td>Donald</td>\n",
       "      <td>Stonebarger</td>\n",
       "      <td>HTML Email</td>\n",
       "      <td>C:\\Users\\Raffie\\Documents\\Python Scripts\\Campa...</td>\n",
       "      <td>Opens</td>\n",
       "      <td>2020-04-03</td>\n",
       "    </tr>\n",
       "  </tbody>\n",
       "</table>\n",
       "</div>"
      ],
      "text/plain": [
       "  Company   Database Name   Date Opened Date Opened    \\\n",
       "0       NaN    All Contacts         NaT    2020-04-05   \n",
       "1       NaN    All Contacts         NaT    2020-04-03   \n",
       "2       NaN    All Contacts         NaT    2020-04-03   \n",
       "3       NaN    All Contacts         NaT    2020-04-03   \n",
       "4       NaN    All Contacts         NaT    2020-04-03   \n",
       "\n",
       "                  Email Address      First-Name     Last-Name  \\\n",
       "0       debeauclair77@hotmail.com         Danny     Beauclair   \n",
       "1  christopherturnerlaw@gmail.com   Christopher        Turner   \n",
       "2         jprovo@phpattorneys.com         Jakob         Provo   \n",
       "3               csexton@sb-kc.com         Curry        Sexton   \n",
       "4                gmastone@aol.com        Donald   Stonebarger   \n",
       "\n",
       "  Opened Email As                                            file_name  \\\n",
       "0        HTML Email  C:\\Users\\Raffie\\Documents\\Python Scripts\\Campa...   \n",
       "1        HTML Email  C:\\Users\\Raffie\\Documents\\Python Scripts\\Campa...   \n",
       "2        HTML Email  C:\\Users\\Raffie\\Documents\\Python Scripts\\Campa...   \n",
       "3        HTML Email  C:\\Users\\Raffie\\Documents\\Python Scripts\\Campa...   \n",
       "4        HTML Email  C:\\Users\\Raffie\\Documents\\Python Scripts\\Campa...   \n",
       "\n",
       "  sheet_name Final_date  \n",
       "0      Opens 2020-04-05  \n",
       "1      Opens 2020-04-03  \n",
       "2      Opens 2020-04-03  \n",
       "3      Opens 2020-04-03  \n",
       "4      Opens 2020-04-03  "
      ]
     },
     "execution_count": 6,
     "metadata": {},
     "output_type": "execute_result"
    }
   ],
   "source": [
    "open_df.head()"
   ]
  },
  {
   "cell_type": "code",
   "execution_count": 7,
   "metadata": {},
   "outputs": [],
   "source": [
    "open_df.drop(columns = ['Date Opened', 'Date Opened  '], inplace = True)"
   ]
  },
  {
   "cell_type": "code",
   "execution_count": 8,
   "metadata": {},
   "outputs": [],
   "source": [
    "open_df['file_name'] = open_df.loc[:,'file_name'].apply(lambda x: x.split(\"\\\\\")[-1])\n",
    "bounces_df['file_name'] = bounces_df.loc[:,'file_name'].apply(lambda x: x.split(\"\\\\\")[-1])\n",
    "unsub_df['file_name'] = unsub_df.loc[:,'file_name'].apply(lambda x: x.split(\"\\\\\")[-1])\n",
    "spam_df['file_name'] = spam_df.loc[:,'file_name'].apply(lambda x: x.split(\"\\\\\")[-1])"
   ]
  },
  {
   "cell_type": "code",
   "execution_count": 9,
   "metadata": {},
   "outputs": [],
   "source": [
    "open_df.rename(columns={'Final_date':'Date', 'Email Address  ':'Email'}, inplace = True)\n",
    "bounces_df.rename(columns={'Bounce Date  ' :'Date', 'Email Address  ':'Email'}, inplace = True)\n",
    "unsub_df.rename(columns={'Unsubscribe Date  ':'Date', 'Email Address  ':'Email'}, inplace = True)\n",
    "spam_df.rename(columns={'SPAM Complaints Date  ':'Date', 'Email Address  ':'Email'}, inplace = True)"
   ]
  },
  {
   "cell_type": "code",
   "execution_count": 10,
   "metadata": {},
   "outputs": [],
   "source": [
    "df_list = [open_df, bounces_df, unsub_df, spam_df]"
   ]
  },
  {
   "cell_type": "code",
   "execution_count": 11,
   "metadata": {},
   "outputs": [],
   "source": [
    "combined = pd.concat(df_list, ignore_index = True, sort =True, join = 'inner')"
   ]
  },
  {
   "cell_type": "code",
   "execution_count": 13,
   "metadata": {},
   "outputs": [],
   "source": [
    "combined['Date'] = pd.to_datetime(combined['Date'])"
   ]
  },
  {
   "cell_type": "code",
   "execution_count": 17,
   "metadata": {},
   "outputs": [
    {
     "data": {
      "text/html": [
       "<div>\n",
       "<style scoped>\n",
       "    .dataframe tbody tr th:only-of-type {\n",
       "        vertical-align: middle;\n",
       "    }\n",
       "\n",
       "    .dataframe tbody tr th {\n",
       "        vertical-align: top;\n",
       "    }\n",
       "\n",
       "    .dataframe thead th {\n",
       "        text-align: right;\n",
       "    }\n",
       "</style>\n",
       "<table border=\"1\" class=\"dataframe\">\n",
       "  <thead>\n",
       "    <tr style=\"text-align: right;\">\n",
       "      <th></th>\n",
       "      <th>Date</th>\n",
       "      <th>Email</th>\n",
       "      <th>file_name</th>\n",
       "      <th>sheet_name</th>\n",
       "      <th>Year</th>\n",
       "    </tr>\n",
       "  </thead>\n",
       "  <tbody>\n",
       "    <tr>\n",
       "      <td>0</td>\n",
       "      <td>2020-04-05</td>\n",
       "      <td>debeauclair77@hotmail.com</td>\n",
       "      <td>KSWS_040220_1_1_PP Stats.xlsx</td>\n",
       "      <td>Opens</td>\n",
       "      <td>2020-04-05</td>\n",
       "    </tr>\n",
       "    <tr>\n",
       "      <td>1</td>\n",
       "      <td>2020-04-03</td>\n",
       "      <td>christopherturnerlaw@gmail.com</td>\n",
       "      <td>KSWS_040220_1_1_PP Stats.xlsx</td>\n",
       "      <td>Opens</td>\n",
       "      <td>2020-04-03</td>\n",
       "    </tr>\n",
       "    <tr>\n",
       "      <td>2</td>\n",
       "      <td>2020-04-03</td>\n",
       "      <td>jprovo@phpattorneys.com</td>\n",
       "      <td>KSWS_040220_1_1_PP Stats.xlsx</td>\n",
       "      <td>Opens</td>\n",
       "      <td>2020-04-03</td>\n",
       "    </tr>\n",
       "    <tr>\n",
       "      <td>3</td>\n",
       "      <td>2020-04-03</td>\n",
       "      <td>csexton@sb-kc.com</td>\n",
       "      <td>KSWS_040220_1_1_PP Stats.xlsx</td>\n",
       "      <td>Opens</td>\n",
       "      <td>2020-04-03</td>\n",
       "    </tr>\n",
       "    <tr>\n",
       "      <td>4</td>\n",
       "      <td>2020-04-03</td>\n",
       "      <td>gmastone@aol.com</td>\n",
       "      <td>KSWS_040220_1_1_PP Stats.xlsx</td>\n",
       "      <td>Opens</td>\n",
       "      <td>2020-04-03</td>\n",
       "    </tr>\n",
       "  </tbody>\n",
       "</table>\n",
       "</div>"
      ],
      "text/plain": [
       "        Date                           Email                      file_name  \\\n",
       "0 2020-04-05       debeauclair77@hotmail.com  KSWS_040220_1_1_PP Stats.xlsx   \n",
       "1 2020-04-03  christopherturnerlaw@gmail.com  KSWS_040220_1_1_PP Stats.xlsx   \n",
       "2 2020-04-03         jprovo@phpattorneys.com  KSWS_040220_1_1_PP Stats.xlsx   \n",
       "3 2020-04-03               csexton@sb-kc.com  KSWS_040220_1_1_PP Stats.xlsx   \n",
       "4 2020-04-03                gmastone@aol.com  KSWS_040220_1_1_PP Stats.xlsx   \n",
       "\n",
       "  sheet_name       Year  \n",
       "0      Opens 2020-04-05  \n",
       "1      Opens 2020-04-03  \n",
       "2      Opens 2020-04-03  \n",
       "3      Opens 2020-04-03  \n",
       "4      Opens 2020-04-03  "
      ]
     },
     "execution_count": 17,
     "metadata": {},
     "output_type": "execute_result"
    }
   ],
   "source": [
    "combined['Year'] = combined['Date'].apply(lambda x: x.normalize())\n",
    "combined.head()"
   ]
  },
  {
   "cell_type": "code",
   "execution_count": 19,
   "metadata": {},
   "outputs": [],
   "source": [
    "combined.to_excel('combined.xlsx', index = False)"
   ]
  }
 ],
 "metadata": {
  "kernelspec": {
   "display_name": "Python 3",
   "language": "python",
   "name": "python3"
  },
  "language_info": {
   "codemirror_mode": {
    "name": "ipython",
    "version": 3
   },
   "file_extension": ".py",
   "mimetype": "text/x-python",
   "name": "python",
   "nbconvert_exporter": "python",
   "pygments_lexer": "ipython3",
   "version": "3.7.4"
  }
 },
 "nbformat": 4,
 "nbformat_minor": 2
}
